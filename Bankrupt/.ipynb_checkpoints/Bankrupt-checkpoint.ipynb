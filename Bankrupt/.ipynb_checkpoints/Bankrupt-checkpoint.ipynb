{
 "cells": [
  {
   "cell_type": "code",
   "execution_count": 1,
   "id": "fb298949-1d3d-4da6-ba81-3b7383be82a3",
   "metadata": {},
   "outputs": [],
   "source": [
    "import pandas as pd\n",
    "from sklearn.ensemble import RandomForestClassifier\n",
    "from sklearn.metrics import accuracy_score, recall_score, precision_score, classification_report,confusion_matrix, ConfusionMatrixDisplay\n",
    "from sklearn.model_selection import train_test_split\n",
    "import numpy as np\n",
    "from sklearn.linear_model import LogisticRegression\n",
    "from sklearn.feature_selection import SelectFromModel, mutual_info_classif, f_classif, SelectKBest\n",
    "from sklearn.preprocessing import StandardScaler\n",
    "\n",
    "from tensorflow import keras\n",
    "import tensorflow as tf\n",
    "from keras import metrics, models, layers\n",
    "from keras.callbacks import EarlyStopping"
   ]
  },
  {
   "cell_type": "code",
   "execution_count": 2,
   "id": "26ddf5ac-5bec-4c17-b3af-466a165767e3",
   "metadata": {},
   "outputs": [],
   "source": [
    "bankrupt=pd.read_csv('data.csv')"
   ]
  },
  {
   "cell_type": "code",
   "execution_count": 3,
   "id": "44e9fe12-67cb-4429-b72c-c8210136ade5",
   "metadata": {},
   "outputs": [],
   "source": [
    "bankrupt.drop(' Net Income Flag',axis=1,inplace=True)\n"
   ]
  },
  {
   "cell_type": "code",
   "execution_count": null,
   "id": "06bf80f9-a070-4cce-8f46-cb65993e0216",
   "metadata": {},
   "outputs": [],
   "source": []
  },
  {
   "cell_type": "code",
   "execution_count": 52,
   "id": "b7bd1117-9110-43a3-aba9-b850281d69f1",
   "metadata": {},
   "outputs": [],
   "source": [
    "x_train,x_test =train_test_split(bankrupt,train_size=0.8,test_size=0.2,random_state=415)\n",
    "\n",
    "train_labels=x_train.pop('Bankrupt?')\n",
    "test_labels=x_test.pop('Bankrupt?')"
   ]
  },
  {
   "cell_type": "code",
   "execution_count": 53,
   "id": "74f77f59-bd99-4b55-96cf-4cb5edc42bd9",
   "metadata": {},
   "outputs": [],
   "source": [
    "weights={0:1.,1:100.}"
   ]
  },
  {
   "cell_type": "code",
   "execution_count": 54,
   "id": "f83b0949-75b3-4abd-a325-962e1d745a24",
   "metadata": {},
   "outputs": [],
   "source": [
    "forest=RandomForestClassifier(n_estimators=40,random_state=567,class_weight=weights,max_depth=8,max_features=30)\n",
    "forest=forest.fit(x_train,train_labels)"
   ]
  },
  {
   "cell_type": "code",
   "execution_count": 55,
   "id": "1aa98976-7219-4ae9-b57b-bd282e9f7553",
   "metadata": {},
   "outputs": [],
   "source": [
    "feature_names=x_train.columns"
   ]
  },
  {
   "cell_type": "code",
   "execution_count": 56,
   "id": "1b394fa1-796e-4bb5-b24c-62cf2b7a331a",
   "metadata": {},
   "outputs": [
    {
     "data": {
      "text/plain": [
       " Retained Earnings to Total Assets                          0.120637\n",
       " Persistent EPS in the Last Four Seasons                    0.096376\n",
       " ROA(C) before interest and depreciation before interest    0.077462\n",
       " Net Income to Total Assets                                 0.064518\n",
       " Net worth/Assets                                           0.054674\n",
       " Equity to Liability                                        0.047523\n",
       " Borrowing dependency                                       0.039911\n",
       " Per Share Net profit before tax (Yuan ¥)                   0.034641\n",
       " Interest Expense Ratio                                     0.030812\n",
       " Debt ratio %                                               0.026038\n",
       "Name: 0, dtype: float64"
      ]
     },
     "execution_count": 56,
     "metadata": {},
     "output_type": "execute_result"
    }
   ],
   "source": [
    "feature_importance_forest=pd.DataFrame(forest.feature_importances_,index=feature_names)\n",
    "feature_importance_forest[0].nlargest(10)"
   ]
  },
  {
   "cell_type": "code",
   "execution_count": 57,
   "id": "4d1a2cab-26d4-4157-b68e-43e285a059ad",
   "metadata": {},
   "outputs": [
    {
     "data": {
      "text/plain": [
       " Operating Expense Rate                 0.0\n",
       " Interest-bearing debt interest rate    0.0\n",
       " Revenue Per Share (Yuan ¥)             0.0\n",
       " Net Value Growth Rate                  0.0\n",
       " Current Ratio                          0.0\n",
       " Quick Ratio                            0.0\n",
       " Total debt/Total net worth             0.0\n",
       " Accounts Receivable Turnover           0.0\n",
       " Average Collection Days                0.0\n",
       " Revenue per person                     0.0\n",
       "Name: 0, dtype: float64"
      ]
     },
     "execution_count": 57,
     "metadata": {},
     "output_type": "execute_result"
    }
   ],
   "source": [
    "feature_importance_forest[0].nsmallest(10)"
   ]
  },
  {
   "cell_type": "code",
   "execution_count": 58,
   "id": "01bb9851-3968-4277-a50d-8d20c8416eff",
   "metadata": {},
   "outputs": [],
   "source": [
    "predictions=forest.predict(x_test)"
   ]
  },
  {
   "cell_type": "code",
   "execution_count": 59,
   "id": "60c062df-02b5-4693-9aa9-aa4b55e60d1a",
   "metadata": {},
   "outputs": [
    {
     "data": {
      "text/plain": [
       "array([1240,  124], dtype=int64)"
      ]
     },
     "execution_count": 59,
     "metadata": {},
     "output_type": "execute_result"
    }
   ],
   "source": [
    "np.bincount(predictions)"
   ]
  },
  {
   "cell_type": "code",
   "execution_count": 60,
   "id": "21a499ae-d3b5-46a7-8811-f60df83afbfb",
   "metadata": {},
   "outputs": [
    {
     "name": "stdout",
     "output_type": "stream",
     "text": [
      "              precision    recall  f1-score   support\n",
      "\n",
      " no bankrupt       0.99      0.93      0.96      1320\n",
      "    bankrupt       0.23      0.64      0.33        44\n",
      "\n",
      "    accuracy                           0.92      1364\n",
      "   macro avg       0.61      0.78      0.64      1364\n",
      "weighted avg       0.96      0.92      0.94      1364\n",
      "\n"
     ]
    }
   ],
   "source": [
    "print(classification_report(y_true=test_labels,y_pred=predictions,target_names=['no bankrupt','bankrupt']))"
   ]
  },
  {
   "cell_type": "code",
   "execution_count": 62,
   "id": "6e80d655-cf22-4614-b5ff-59260d6a4592",
   "metadata": {},
   "outputs": [
    {
     "data": {
      "text/plain": [
       "<sklearn.metrics._plot.confusion_matrix.ConfusionMatrixDisplay at 0x1341a1d7d00>"
      ]
     },
     "execution_count": 62,
     "metadata": {},
     "output_type": "execute_result"
    },
    {
     "data": {
      "image/png": "[encoded data removed]",
      "text/plain": [
       "<Figure size 432x288 with 2 Axes>"
      ]
     },
     "metadata": {
      "needs_background": "light"
     },
     "output_type": "display_data"
    }
   ],
   "source": [
    "cm=confusion_matrix(test_labels,predictions,labels=[0,1])\n",
    "\n",
    "disp = ConfusionMatrixDisplay(confusion_matrix=cm,display_labels=forest.classes_)\n",
    "disp.plot()"
   ]
  },
  {
   "cell_type": "code",
   "execution_count": null,
   "id": "f9223aae-03b2-4a07-beb6-9efae4695b71",
   "metadata": {},
   "outputs": [],
   "source": []
  },
  {
   "cell_type": "code",
   "execution_count": 14,
   "id": "df404842-8364-4f94-aec0-ca3ec72deb3b",
   "metadata": {},
   "outputs": [],
   "source": [
    "log_reg=LogisticRegression(class_weight={0:1,1:60.},solver='liblinear',random_state=4547)\n",
    "log_reg=log_reg.fit(x_train,train_labels)"
   ]
  },
  {
   "cell_type": "code",
   "execution_count": 15,
   "id": "89a65b3a-0126-49c9-9d38-b80aff1062c8",
   "metadata": {},
   "outputs": [],
   "source": [
    "log_prediction=log_reg.predict(x_test)"
   ]
  },
  {
   "cell_type": "code",
   "execution_count": 16,
   "id": "e75988a9-df81-4614-846c-ce9d31df6596",
   "metadata": {},
   "outputs": [
    {
     "name": "stdout",
     "output_type": "stream",
     "text": [
      "              precision    recall  f1-score   support\n",
      "\n",
      " no bankrupt       0.99      0.15      0.27      1320\n",
      "    bankrupt       0.04      0.93      0.07        44\n",
      "\n",
      "    accuracy                           0.18      1364\n",
      "   macro avg       0.51      0.54      0.17      1364\n",
      "weighted avg       0.95      0.18      0.26      1364\n",
      "\n"
     ]
    }
   ],
   "source": [
    "print(classification_report(y_true=test_labels,y_pred=log_prediction,target_names=['no bankrupt','bankrupt']))"
   ]
  },
  {
   "cell_type": "code",
   "execution_count": 17,
   "id": "bc6059fd-082e-4256-9224-918c6b5bffa5",
   "metadata": {},
   "outputs": [
    {
     "data": {
      "text/plain": [
       "0.17961876832844575"
      ]
     },
     "execution_count": 17,
     "metadata": {},
     "output_type": "execute_result"
    }
   ],
   "source": [
    "accuracy_score(test_labels,log_prediction)"
   ]
  },
  {
   "cell_type": "code",
   "execution_count": 18,
   "id": "d0767078-f144-4dcb-afe7-dd86374ce7ec",
   "metadata": {},
   "outputs": [
    {
     "data": {
      "text/plain": [
       "<sklearn.metrics._plot.confusion_matrix.ConfusionMatrixDisplay at 0x132ddcaa6b0>"
      ]
     },
     "execution_count": 18,
     "metadata": {},
     "output_type": "execute_result"
    },
    {
     "data": {
      "image/png": "[encoded data removed]",
      "text/plain": [
       "<Figure size 432x288 with 2 Axes>"
      ]
     },
     "metadata": {
      "needs_background": "light"
     },
     "output_type": "display_data"
    }
   ],
   "source": [
    "cm_log=confusion_matrix(test_labels,log_prediction,labels=[0,1])\n",
    "\n",
    "disp = ConfusionMatrixDisplay(confusion_matrix=cm_log,display_labels=log_reg.classes_)\n",
    "disp.plot()"
   ]
  },
  {
   "cell_type": "code",
   "execution_count": 28,
   "id": "cc308d30-f172-45c8-a4c4-b4b1c079a5af",
   "metadata": {},
   "outputs": [],
   "source": [
    "df=(bankrupt-bankrupt.mean())/bankrupt.std()\n",
    "df['Bankrupt?']=bankrupt['Bankrupt?']\n",
    "bankrupt=df.fillna(0)"
   ]
  },
  {
   "cell_type": "code",
   "execution_count": 29,
   "id": "e505f22e-799d-474c-ba3a-537b0084e49b",
   "metadata": {},
   "outputs": [
    {
     "data": {
      "text/html": [
       "<div>\n",
       "<style scoped>\n",
       "    .dataframe tbody tr th:only-of-type {\n",
       "        vertical-align: middle;\n",
       "    }\n",
       "\n",
       "    .dataframe tbody tr th {\n",
       "        vertical-align: top;\n",
       "    }\n",
       "\n",
       "    .dataframe thead th {\n",
       "        text-align: right;\n",
       "    }\n",
       "</style>\n",
       "<table border=\"1\" class=\"dataframe\">\n",
       "  <thead>\n",
       "    <tr style=\"text-align: right;\">\n",
       "      <th></th>\n",
       "      <th>Bankrupt?</th>\n",
       "      <th>ROA(C) before interest and depreciation before interest</th>\n",
       "      <th>ROA(A) before interest and % after tax</th>\n",
       "      <th>ROA(B) before interest and depreciation after tax</th>\n",
       "      <th>Operating Gross Margin</th>\n",
       "      <th>Realized Sales Gross Margin</th>\n",
       "      <th>Operating Profit Rate</th>\n",
       "      <th>Pre-tax net Interest Rate</th>\n",
       "      <th>After-tax net Interest Rate</th>\n",
       "      <th>Non-industry income and expenditure/revenue</th>\n",
       "      <th>...</th>\n",
       "      <th>Liability-Assets Flag</th>\n",
       "      <th>Net Income to Total Assets</th>\n",
       "      <th>Total assets to GNP price</th>\n",
       "      <th>No-credit Interval</th>\n",
       "      <th>Gross Profit to Sales</th>\n",
       "      <th>Net Income to Stockholder's Equity</th>\n",
       "      <th>Liability to Equity</th>\n",
       "      <th>Degree of Financial Leverage (DFL)</th>\n",
       "      <th>Interest Coverage Ratio (Interest expense to EBIT)</th>\n",
       "      <th>Equity to Liability</th>\n",
       "    </tr>\n",
       "  </thead>\n",
       "  <tbody>\n",
       "    <tr>\n",
       "      <th>0</th>\n",
       "      <td>1</td>\n",
       "      <td>-2.217747</td>\n",
       "      <td>-2.045648</td>\n",
       "      <td>-2.400185</td>\n",
       "      <td>-0.383306</td>\n",
       "      <td>-0.382610</td>\n",
       "      <td>0.016455</td>\n",
       "      <td>-0.023514</td>\n",
       "      <td>-0.020163</td>\n",
       "      <td>-0.087472</td>\n",
       "      <td>...</td>\n",
       "      <td>-0.034269</td>\n",
       "      <td>-2.254152</td>\n",
       "      <td>-0.049487</td>\n",
       "      <td>-0.084268</td>\n",
       "      <td>-0.383437</td>\n",
       "      <td>-0.861548</td>\n",
       "      <td>0.680121</td>\n",
       "      <td>-0.060026</td>\n",
       "      <td>-0.098971</td>\n",
       "      <td>-0.622022</td>\n",
       "    </tr>\n",
       "    <tr>\n",
       "      <th>1</th>\n",
       "      <td>1</td>\n",
       "      <td>-0.673779</td>\n",
       "      <td>-0.311045</td>\n",
       "      <td>-0.598406</td>\n",
       "      <td>0.135058</td>\n",
       "      <td>0.136297</td>\n",
       "      <td>0.014669</td>\n",
       "      <td>0.014798</td>\n",
       "      <td>0.015965</td>\n",
       "      <td>-0.005956</td>\n",
       "      <td>...</td>\n",
       "      <td>-0.034269</td>\n",
       "      <td>-0.309011</td>\n",
       "      <td>-0.049487</td>\n",
       "      <td>-0.021387</td>\n",
       "      <td>0.135243</td>\n",
       "      <td>-0.029802</td>\n",
       "      <td>0.240667</td>\n",
       "      <td>15.128707</td>\n",
       "      <td>0.364532</td>\n",
       "      <td>-0.535534</td>\n",
       "    </tr>\n",
       "    <tr>\n",
       "      <th>2</th>\n",
       "      <td>1</td>\n",
       "      <td>-1.303576</td>\n",
       "      <td>-0.908353</td>\n",
       "      <td>-1.319813</td>\n",
       "      <td>-0.383731</td>\n",
       "      <td>-0.388148</td>\n",
       "      <td>0.007857</td>\n",
       "      <td>-0.061107</td>\n",
       "      <td>-0.051179</td>\n",
       "      <td>-0.142227</td>\n",
       "      <td>...</td>\n",
       "      <td>-0.034269</td>\n",
       "      <td>-0.820449</td>\n",
       "      <td>-0.049487</td>\n",
       "      <td>-0.005984</td>\n",
       "      <td>-0.383670</td>\n",
       "      <td>-0.249802</td>\n",
       "      <td>0.679197</td>\n",
       "      <td>-0.062957</td>\n",
       "      <td>-0.125006</td>\n",
       "      <td>-0.621914</td>\n",
       "    </tr>\n",
       "    <tr>\n",
       "      <th>3</th>\n",
       "      <td>1</td>\n",
       "      <td>-1.735759</td>\n",
       "      <td>-1.636089</td>\n",
       "      <td>-1.556226</td>\n",
       "      <td>-1.441312</td>\n",
       "      <td>-1.441726</td>\n",
       "      <td>-0.004257</td>\n",
       "      <td>-0.017312</td>\n",
       "      <td>-0.008676</td>\n",
       "      <td>-0.024490</td>\n",
       "      <td>...</td>\n",
       "      <td>-0.034269</td>\n",
       "      <td>-1.691098</td>\n",
       "      <td>-0.049487</td>\n",
       "      <td>-0.080220</td>\n",
       "      <td>-1.441420</td>\n",
       "      <td>-0.392835</td>\n",
       "      <td>0.093758</td>\n",
       "      <td>-0.053899</td>\n",
       "      <td>-0.052558</td>\n",
       "      <td>-0.471791</td>\n",
       "    </tr>\n",
       "    <tr>\n",
       "      <th>4</th>\n",
       "      <td>1</td>\n",
       "      <td>-0.661729</td>\n",
       "      <td>-0.307722</td>\n",
       "      <td>-0.508013</td>\n",
       "      <td>-0.541198</td>\n",
       "      <td>-0.540668</td>\n",
       "      <td>0.016757</td>\n",
       "      <td>0.013702</td>\n",
       "      <td>0.016185</td>\n",
       "      <td>-0.013253</td>\n",
       "      <td>...</td>\n",
       "      <td>-0.034269</td>\n",
       "      <td>-0.315985</td>\n",
       "      <td>-0.049487</td>\n",
       "      <td>-0.032050</td>\n",
       "      <td>-0.541215</td>\n",
       "      <td>-0.029562</td>\n",
       "      <td>-0.128005</td>\n",
       "      <td>-0.178024</td>\n",
       "      <td>0.776338</td>\n",
       "      <td>-0.241697</td>\n",
       "    </tr>\n",
       "    <tr>\n",
       "      <th>...</th>\n",
       "      <td>...</td>\n",
       "      <td>...</td>\n",
       "      <td>...</td>\n",
       "      <td>...</td>\n",
       "      <td>...</td>\n",
       "      <td>...</td>\n",
       "      <td>...</td>\n",
       "      <td>...</td>\n",
       "      <td>...</td>\n",
       "      <td>...</td>\n",
       "      <td>...</td>\n",
       "      <td>...</td>\n",
       "      <td>...</td>\n",
       "      <td>...</td>\n",
       "      <td>...</td>\n",
       "      <td>...</td>\n",
       "      <td>...</td>\n",
       "      <td>...</td>\n",
       "      <td>...</td>\n",
       "      <td>...</td>\n",
       "      <td>...</td>\n",
       "    </tr>\n",
       "    <tr>\n",
       "      <th>6814</th>\n",
       "      <td>0</td>\n",
       "      <td>-0.189381</td>\n",
       "      <td>-0.291938</td>\n",
       "      <td>-0.168169</td>\n",
       "      <td>-0.206262</td>\n",
       "      <td>-0.204954</td>\n",
       "      <td>0.018213</td>\n",
       "      <td>0.017034</td>\n",
       "      <td>0.018195</td>\n",
       "      <td>-0.010092</td>\n",
       "      <td>...</td>\n",
       "      <td>-0.034269</td>\n",
       "      <td>-0.194217</td>\n",
       "      <td>-0.049487</td>\n",
       "      <td>-0.024009</td>\n",
       "      <td>-0.206201</td>\n",
       "      <td>-0.002968</td>\n",
       "      <td>-0.052520</td>\n",
       "      <td>-0.030435</td>\n",
       "      <td>0.063210</td>\n",
       "      <td>-0.353667</td>\n",
       "    </tr>\n",
       "    <tr>\n",
       "      <th>6815</th>\n",
       "      <td>0</td>\n",
       "      <td>-0.494640</td>\n",
       "      <td>-0.310214</td>\n",
       "      <td>-0.477592</td>\n",
       "      <td>-0.569287</td>\n",
       "      <td>-0.568786</td>\n",
       "      <td>0.018222</td>\n",
       "      <td>0.017454</td>\n",
       "      <td>0.017918</td>\n",
       "      <td>-0.009247</td>\n",
       "      <td>...</td>\n",
       "      <td>-0.034269</td>\n",
       "      <td>-0.198645</td>\n",
       "      <td>-0.049487</td>\n",
       "      <td>0.001317</td>\n",
       "      <td>-0.569292</td>\n",
       "      <td>-0.006633</td>\n",
       "      <td>-0.154393</td>\n",
       "      <td>-0.033989</td>\n",
       "      <td>0.049966</td>\n",
       "      <td>-0.185842</td>\n",
       "    </tr>\n",
       "    <tr>\n",
       "      <th>6816</th>\n",
       "      <td>0</td>\n",
       "      <td>-0.534806</td>\n",
       "      <td>-0.379166</td>\n",
       "      <td>-0.534957</td>\n",
       "      <td>0.147400</td>\n",
       "      <td>0.135019</td>\n",
       "      <td>0.017627</td>\n",
       "      <td>0.016411</td>\n",
       "      <td>0.017152</td>\n",
       "      <td>-0.009918</td>\n",
       "      <td>...</td>\n",
       "      <td>-0.034269</td>\n",
       "      <td>-0.247498</td>\n",
       "      <td>-0.049487</td>\n",
       "      <td>0.019651</td>\n",
       "      <td>0.147294</td>\n",
       "      <td>-0.018165</td>\n",
       "      <td>-0.316423</td>\n",
       "      <td>-0.047866</td>\n",
       "      <td>-0.015100</td>\n",
       "      <td>1.001133</td>\n",
       "    </tr>\n",
       "    <tr>\n",
       "      <th>6817</th>\n",
       "      <td>0</td>\n",
       "      <td>0.017874</td>\n",
       "      <td>0.019593</td>\n",
       "      <td>0.007402</td>\n",
       "      <td>-0.005811</td>\n",
       "      <td>-0.004719</td>\n",
       "      <td>0.024492</td>\n",
       "      <td>0.024097</td>\n",
       "      <td>0.023221</td>\n",
       "      <td>-0.011174</td>\n",
       "      <td>...</td>\n",
       "      <td>-0.034269</td>\n",
       "      <td>0.100359</td>\n",
       "      <td>-0.049487</td>\n",
       "      <td>0.003492</td>\n",
       "      <td>-0.005930</td>\n",
       "      <td>0.046930</td>\n",
       "      <td>-0.194837</td>\n",
       "      <td>-0.045894</td>\n",
       "      <td>-0.004270</td>\n",
       "      <td>-0.071359</td>\n",
       "    </tr>\n",
       "    <tr>\n",
       "      <th>6818</th>\n",
       "      <td>0</td>\n",
       "      <td>-0.199824</td>\n",
       "      <td>0.174943</td>\n",
       "      <td>-0.065608</td>\n",
       "      <td>1.149229</td>\n",
       "      <td>1.151532</td>\n",
       "      <td>-0.051870</td>\n",
       "      <td>0.372749</td>\n",
       "      <td>0.346746</td>\n",
       "      <td>0.877185</td>\n",
       "      <td>...</td>\n",
       "      <td>-0.034269</td>\n",
       "      <td>0.203204</td>\n",
       "      <td>-0.049487</td>\n",
       "      <td>0.225045</td>\n",
       "      <td>1.149293</td>\n",
       "      <td>0.042450</td>\n",
       "      <td>-0.363064</td>\n",
       "      <td>-0.047751</td>\n",
       "      <td>-0.014453</td>\n",
       "      <td>3.725456</td>\n",
       "    </tr>\n",
       "  </tbody>\n",
       "</table>\n",
       "<p>6819 rows × 95 columns</p>\n",
       "</div>"
      ],
      "text/plain": [
       "      Bankrupt?   ROA(C) before interest and depreciation before interest  \\\n",
       "0             1                                          -2.217747          \n",
       "1             1                                          -0.673779          \n",
       "2             1                                          -1.303576          \n",
       "3             1                                          -1.735759          \n",
       "4             1                                          -0.661729          \n",
       "...         ...                                                ...          \n",
       "6814          0                                          -0.189381          \n",
       "6815          0                                          -0.494640          \n",
       "6816          0                                          -0.534806          \n",
       "6817          0                                           0.017874          \n",
       "6818          0                                          -0.199824          \n",
       "\n",
       "       ROA(A) before interest and % after tax  \\\n",
       "0                                   -2.045648   \n",
       "1                                   -0.311045   \n",
       "2                                   -0.908353   \n",
       "3                                   -1.636089   \n",
       "4                                   -0.307722   \n",
       "...                                       ...   \n",
       "6814                                -0.291938   \n",
       "6815                                -0.310214   \n",
       "6816                                -0.379166   \n",
       "6817                                 0.019593   \n",
       "6818                                 0.174943   \n",
       "\n",
       "       ROA(B) before interest and depreciation after tax  \\\n",
       "0                                             -2.400185    \n",
       "1                                             -0.598406    \n",
       "2                                             -1.319813    \n",
       "3                                             -1.556226    \n",
       "4                                             -0.508013    \n",
       "...                                                 ...    \n",
       "6814                                          -0.168169    \n",
       "6815                                          -0.477592    \n",
       "6816                                          -0.534957    \n",
       "6817                                           0.007402    \n",
       "6818                                          -0.065608    \n",
       "\n",
       "       Operating Gross Margin   Realized Sales Gross Margin  \\\n",
       "0                   -0.383306                     -0.382610   \n",
       "1                    0.135058                      0.136297   \n",
       "2                   -0.383731                     -0.388148   \n",
       "3                   -1.441312                     -1.441726   \n",
       "4                   -0.541198                     -0.540668   \n",
       "...                       ...                           ...   \n",
       "6814                -0.206262                     -0.204954   \n",
       "6815                -0.569287                     -0.568786   \n",
       "6816                 0.147400                      0.135019   \n",
       "6817                -0.005811                     -0.004719   \n",
       "6818                 1.149229                      1.151532   \n",
       "\n",
       "       Operating Profit Rate   Pre-tax net Interest Rate  \\\n",
       "0                   0.016455                   -0.023514   \n",
       "1                   0.014669                    0.014798   \n",
       "2                   0.007857                   -0.061107   \n",
       "3                  -0.004257                   -0.017312   \n",
       "4                   0.016757                    0.013702   \n",
       "...                      ...                         ...   \n",
       "6814                0.018213                    0.017034   \n",
       "6815                0.018222                    0.017454   \n",
       "6816                0.017627                    0.016411   \n",
       "6817                0.024492                    0.024097   \n",
       "6818               -0.051870                    0.372749   \n",
       "\n",
       "       After-tax net Interest Rate  \\\n",
       "0                        -0.020163   \n",
       "1                         0.015965   \n",
       "2                        -0.051179   \n",
       "3                        -0.008676   \n",
       "4                         0.016185   \n",
       "...                            ...   \n",
       "6814                      0.018195   \n",
       "6815                      0.017918   \n",
       "6816                      0.017152   \n",
       "6817                      0.023221   \n",
       "6818                      0.346746   \n",
       "\n",
       "       Non-industry income and expenditure/revenue  ...  \\\n",
       "0                                        -0.087472  ...   \n",
       "1                                        -0.005956  ...   \n",
       "2                                        -0.142227  ...   \n",
       "3                                        -0.024490  ...   \n",
       "4                                        -0.013253  ...   \n",
       "...                                            ...  ...   \n",
       "6814                                     -0.010092  ...   \n",
       "6815                                     -0.009247  ...   \n",
       "6816                                     -0.009918  ...   \n",
       "6817                                     -0.011174  ...   \n",
       "6818                                      0.877185  ...   \n",
       "\n",
       "       Liability-Assets Flag   Net Income to Total Assets  \\\n",
       "0                  -0.034269                    -2.254152   \n",
       "1                  -0.034269                    -0.309011   \n",
       "2                  -0.034269                    -0.820449   \n",
       "3                  -0.034269                    -1.691098   \n",
       "4                  -0.034269                    -0.315985   \n",
       "...                      ...                          ...   \n",
       "6814               -0.034269                    -0.194217   \n",
       "6815               -0.034269                    -0.198645   \n",
       "6816               -0.034269                    -0.247498   \n",
       "6817               -0.034269                     0.100359   \n",
       "6818               -0.034269                     0.203204   \n",
       "\n",
       "       Total assets to GNP price   No-credit Interval   Gross Profit to Sales  \\\n",
       "0                      -0.049487            -0.084268               -0.383437   \n",
       "1                      -0.049487            -0.021387                0.135243   \n",
       "2                      -0.049487            -0.005984               -0.383670   \n",
       "3                      -0.049487            -0.080220               -1.441420   \n",
       "4                      -0.049487            -0.032050               -0.541215   \n",
       "...                          ...                  ...                     ...   \n",
       "6814                   -0.049487            -0.024009               -0.206201   \n",
       "6815                   -0.049487             0.001317               -0.569292   \n",
       "6816                   -0.049487             0.019651                0.147294   \n",
       "6817                   -0.049487             0.003492               -0.005930   \n",
       "6818                   -0.049487             0.225045                1.149293   \n",
       "\n",
       "       Net Income to Stockholder's Equity   Liability to Equity  \\\n",
       "0                               -0.861548              0.680121   \n",
       "1                               -0.029802              0.240667   \n",
       "2                               -0.249802              0.679197   \n",
       "3                               -0.392835              0.093758   \n",
       "4                               -0.029562             -0.128005   \n",
       "...                                   ...                   ...   \n",
       "6814                            -0.002968             -0.052520   \n",
       "6815                            -0.006633             -0.154393   \n",
       "6816                            -0.018165             -0.316423   \n",
       "6817                             0.046930             -0.194837   \n",
       "6818                             0.042450             -0.363064   \n",
       "\n",
       "       Degree of Financial Leverage (DFL)  \\\n",
       "0                               -0.060026   \n",
       "1                               15.128707   \n",
       "2                               -0.062957   \n",
       "3                               -0.053899   \n",
       "4                               -0.178024   \n",
       "...                                   ...   \n",
       "6814                            -0.030435   \n",
       "6815                            -0.033989   \n",
       "6816                            -0.047866   \n",
       "6817                            -0.045894   \n",
       "6818                            -0.047751   \n",
       "\n",
       "       Interest Coverage Ratio (Interest expense to EBIT)  \\\n",
       "0                                             -0.098971     \n",
       "1                                              0.364532     \n",
       "2                                             -0.125006     \n",
       "3                                             -0.052558     \n",
       "4                                              0.776338     \n",
       "...                                                 ...     \n",
       "6814                                           0.063210     \n",
       "6815                                           0.049966     \n",
       "6816                                          -0.015100     \n",
       "6817                                          -0.004270     \n",
       "6818                                          -0.014453     \n",
       "\n",
       "       Equity to Liability  \n",
       "0                -0.622022  \n",
       "1                -0.535534  \n",
       "2                -0.621914  \n",
       "3                -0.471791  \n",
       "4                -0.241697  \n",
       "...                    ...  \n",
       "6814             -0.353667  \n",
       "6815             -0.185842  \n",
       "6816              1.001133  \n",
       "6817             -0.071359  \n",
       "6818              3.725456  \n",
       "\n",
       "[6819 rows x 95 columns]"
      ]
     },
     "execution_count": 29,
     "metadata": {},
     "output_type": "execute_result"
    }
   ],
   "source": [
    "bankrupt"
   ]
  },
  {
   "cell_type": "code",
   "execution_count": 68,
   "id": "bc52e17c-61a0-40e8-93ea-5e53ca6bf201",
   "metadata": {},
   "outputs": [],
   "source": [
    "x,x_test =train_test_split(bankrupt,train_size=0.8,test_size=0.2,random_state=455)\n",
    "x_train,x_val=train_test_split(x,train_size=0.7,test_size=0.3,random_state=495)"
   ]
  },
  {
   "cell_type": "code",
   "execution_count": 69,
   "id": "97fbfc36-813e-4eae-b3c3-41c779a57189",
   "metadata": {},
   "outputs": [],
   "source": [
    "train_targets=x_train.pop('Bankrupt?')\n",
    "val_targets=x_val.pop('Bankrupt?')\n",
    "test_targets=x_test.pop('Bankrupt?')"
   ]
  },
  {
   "cell_type": "code",
   "execution_count": 70,
   "id": "b09b3a77-45ba-4b89-ad66-cf587016b7c6",
   "metadata": {},
   "outputs": [],
   "source": [
    "METRICS= [\n",
    "    metrics.FalseNegatives(name=\"fn\"),\n",
    "    metrics.FalsePositives(name=\"fp\"),\n",
    "    metrics.TrueNegatives(name=\"tn\"),\n",
    "    metrics.TruePositives(name=\"tp\"),\n",
    "    metrics.Precision(name=\"precision\"),\n",
    "    metrics.Recall(name=\"recall\"),\n",
    "]\n",
    "class_weights = {0:1.,\n",
    "                 1:120.}\n",
    "early_stopping = EarlyStopping(monitor='val_loss', patience=5, restore_best_weights=True)"
   ]
  },
  {
   "cell_type": "code",
   "execution_count": 71,
   "id": "8d5dc56e-e8ff-4337-93f1-dcc3d26b825b",
   "metadata": {},
   "outputs": [
    {
     "name": "stdout",
     "output_type": "stream",
     "text": [
      "Model: \"sequential_5\"\n",
      "_________________________________________________________________\n",
      " Layer (type)                Output Shape              Param #   \n",
      "=================================================================\n",
      " dense_14 (Dense)            (None, 64)                6080      \n",
      "                                                                 \n",
      " dropout_9 (Dropout)         (None, 64)                0         \n",
      "                                                                 \n",
      " dense_15 (Dense)            (None, 1)                 65        \n",
      "                                                                 \n",
      "=================================================================\n",
      "Total params: 6,145\n",
      "Trainable params: 6,145\n",
      "Non-trainable params: 0\n",
      "_________________________________________________________________\n"
     ]
    }
   ],
   "source": [
    "model=models.Sequential()\n",
    "model.add(layers.Dense(64, activation='relu',input_shape=(x_train.shape[1],)))\n",
    "model.add(layers.Dropout(0.15))\n",
    "\n",
    "model.add(layers.Dense(1, activation='sigmoid'))\n",
    "model.summary()"
   ]
  },
  {
   "cell_type": "code",
   "execution_count": 72,
   "id": "a7c755d1-5fbc-43c9-8e7f-370d662c7c72",
   "metadata": {},
   "outputs": [],
   "source": [
    "model.compile(optimizer='adam',\n",
    "             loss='binary_crossentropy',\n",
    "             metrics=METRICS)"
   ]
  },
  {
   "cell_type": "code",
   "execution_count": 73,
   "id": "fed287f4-1e54-41e1-88a5-bfb61426ac01",
   "metadata": {
    "tags": []
   },
   "outputs": [
    {
     "name": "stdout",
     "output_type": "stream",
     "text": [
      "Epoch 1/100\n",
      "120/120 [==============================] - 2s 8ms/step - loss: 3.0231 - fn: 13.0000 - fp: 1861.0000 - tn: 1820.0000 - tp: 124.0000 - precision: 0.0625 - recall: 0.9051 - val_loss: 1.0710 - val_fn: 3.0000 - val_fp: 864.0000 - val_tn: 728.0000 - val_tp: 42.0000 - val_precision: 0.0464 - val_recall: 0.9333\n",
      "Epoch 2/100\n",
      "120/120 [==============================] - 1s 5ms/step - loss: 1.8031 - fn: 4.0000 - fp: 1871.0000 - tn: 1810.0000 - tp: 133.0000 - precision: 0.0664 - recall: 0.9708 - val_loss: 1.0368 - val_fn: 4.0000 - val_fp: 804.0000 - val_tn: 788.0000 - val_tp: 41.0000 - val_precision: 0.0485 - val_recall: 0.9111\n",
      "Epoch 3/100\n",
      "120/120 [==============================] - 1s 5ms/step - loss: 1.3483 - fn: 2.0000 - fp: 1754.0000 - tn: 1927.0000 - tp: 135.0000 - precision: 0.0715 - recall: 0.9854 - val_loss: 0.9063 - val_fn: 4.0000 - val_fp: 718.0000 - val_tn: 874.0000 - val_tp: 41.0000 - val_precision: 0.0540 - val_recall: 0.9111\n",
      "Epoch 4/100\n",
      "120/120 [==============================] - 1s 4ms/step - loss: 1.1161 - fn: 0.0000e+00 - fp: 1471.0000 - tn: 2210.0000 - tp: 137.0000 - precision: 0.0852 - recall: 1.0000 - val_loss: 0.8039 - val_fn: 4.0000 - val_fp: 621.0000 - val_tn: 971.0000 - val_tp: 41.0000 - val_precision: 0.0619 - val_recall: 0.9111\n",
      "Epoch 5/100\n",
      "120/120 [==============================] - 1s 4ms/step - loss: 1.0245 - fn: 0.0000e+00 - fp: 1288.0000 - tn: 2393.0000 - tp: 137.0000 - precision: 0.0961 - recall: 1.0000 - val_loss: 0.7733 - val_fn: 4.0000 - val_fp: 556.0000 - val_tn: 1036.0000 - val_tp: 41.0000 - val_precision: 0.0687 - val_recall: 0.9111\n",
      "Epoch 6/100\n",
      "120/120 [==============================] - 1s 4ms/step - loss: 1.0110 - fn: 2.0000 - fp: 1174.0000 - tn: 2507.0000 - tp: 135.0000 - precision: 0.1031 - recall: 0.9854 - val_loss: 0.7262 - val_fn: 4.0000 - val_fp: 499.0000 - val_tn: 1093.0000 - val_tp: 41.0000 - val_precision: 0.0759 - val_recall: 0.9111\n",
      "Epoch 7/100\n",
      "120/120 [==============================] - 1s 4ms/step - loss: 0.9186 - fn: 0.0000e+00 - fp: 1056.0000 - tn: 2625.0000 - tp: 137.0000 - precision: 0.1148 - recall: 1.0000 - val_loss: 0.6622 - val_fn: 6.0000 - val_fp: 414.0000 - val_tn: 1178.0000 - val_tp: 39.0000 - val_precision: 0.0861 - val_recall: 0.8667\n",
      "Epoch 8/100\n",
      "120/120 [==============================] - 1s 4ms/step - loss: 0.8808 - fn: 0.0000e+00 - fp: 934.0000 - tn: 2747.0000 - tp: 137.0000 - precision: 0.1279 - recall: 1.0000 - val_loss: 0.6360 - val_fn: 6.0000 - val_fp: 387.0000 - val_tn: 1205.0000 - val_tp: 39.0000 - val_precision: 0.0915 - val_recall: 0.8667\n",
      "Epoch 9/100\n",
      "120/120 [==============================] - 1s 5ms/step - loss: 0.8440 - fn: 1.0000 - fp: 886.0000 - tn: 2795.0000 - tp: 136.0000 - precision: 0.1331 - recall: 0.9927 - val_loss: 0.6722 - val_fn: 7.0000 - val_fp: 375.0000 - val_tn: 1217.0000 - val_tp: 38.0000 - val_precision: 0.0920 - val_recall: 0.8444\n",
      "Epoch 10/100\n",
      "120/120 [==============================] - 1s 4ms/step - loss: 0.8080 - fn: 0.0000e+00 - fp: 826.0000 - tn: 2855.0000 - tp: 137.0000 - precision: 0.1423 - recall: 1.0000 - val_loss: 0.6261 - val_fn: 6.0000 - val_fp: 351.0000 - val_tn: 1241.0000 - val_tp: 39.0000 - val_precision: 0.1000 - val_recall: 0.8667\n",
      "Epoch 11/100\n",
      "120/120 [==============================] - 1s 5ms/step - loss: 0.7778 - fn: 0.0000e+00 - fp: 841.0000 - tn: 2840.0000 - tp: 137.0000 - precision: 0.1401 - recall: 1.0000 - val_loss: 0.6188 - val_fn: 7.0000 - val_fp: 342.0000 - val_tn: 1250.0000 - val_tp: 38.0000 - val_precision: 0.1000 - val_recall: 0.8444\n",
      "Epoch 12/100\n",
      "120/120 [==============================] - 1s 4ms/step - loss: 0.7491 - fn: 0.0000e+00 - fp: 781.0000 - tn: 2900.0000 - tp: 137.0000 - precision: 0.1492 - recall: 1.0000 - val_loss: 0.5804 - val_fn: 7.0000 - val_fp: 318.0000 - val_tn: 1274.0000 - val_tp: 38.0000 - val_precision: 0.1067 - val_recall: 0.8444\n",
      "Epoch 13/100\n",
      "120/120 [==============================] - 1s 4ms/step - loss: 0.7214 - fn: 0.0000e+00 - fp: 748.0000 - tn: 2933.0000 - tp: 137.0000 - precision: 0.1548 - recall: 1.0000 - val_loss: 0.5958 - val_fn: 7.0000 - val_fp: 315.0000 - val_tn: 1277.0000 - val_tp: 38.0000 - val_precision: 0.1076 - val_recall: 0.8444\n",
      "Epoch 14/100\n",
      "120/120 [==============================] - 1s 4ms/step - loss: 0.6942 - fn: 0.0000e+00 - fp: 710.0000 - tn: 2971.0000 - tp: 137.0000 - precision: 0.1617 - recall: 1.0000 - val_loss: 0.5764 - val_fn: 8.0000 - val_fp: 310.0000 - val_tn: 1282.0000 - val_tp: 37.0000 - val_precision: 0.1066 - val_recall: 0.8222\n",
      "Epoch 15/100\n",
      "120/120 [==============================] - 1s 4ms/step - loss: 0.6598 - fn: 0.0000e+00 - fp: 680.0000 - tn: 3001.0000 - tp: 137.0000 - precision: 0.1677 - recall: 1.0000 - val_loss: 0.5190 - val_fn: 8.0000 - val_fp: 283.0000 - val_tn: 1309.0000 - val_tp: 37.0000 - val_precision: 0.1156 - val_recall: 0.8222\n",
      "Epoch 16/100\n",
      "120/120 [==============================] - 1s 5ms/step - loss: 0.6435 - fn: 1.0000 - fp: 639.0000 - tn: 3042.0000 - tp: 136.0000 - precision: 0.1755 - recall: 0.9927 - val_loss: 0.5629 - val_fn: 8.0000 - val_fp: 295.0000 - val_tn: 1297.0000 - val_tp: 37.0000 - val_precision: 0.1114 - val_recall: 0.8222\n",
      "Epoch 17/100\n",
      "120/120 [==============================] - 1s 4ms/step - loss: 0.6328 - fn: 0.0000e+00 - fp: 673.0000 - tn: 3008.0000 - tp: 137.0000 - precision: 0.1691 - recall: 1.0000 - val_loss: 0.5029 - val_fn: 8.0000 - val_fp: 267.0000 - val_tn: 1325.0000 - val_tp: 37.0000 - val_precision: 0.1217 - val_recall: 0.8222\n",
      "Epoch 18/100\n",
      "120/120 [==============================] - 1s 4ms/step - loss: 0.6355 - fn: 0.0000e+00 - fp: 638.0000 - tn: 3043.0000 - tp: 137.0000 - precision: 0.1768 - recall: 1.0000 - val_loss: 0.4984 - val_fn: 9.0000 - val_fp: 269.0000 - val_tn: 1323.0000 - val_tp: 36.0000 - val_precision: 0.1180 - val_recall: 0.8000\n",
      "Epoch 19/100\n",
      "120/120 [==============================] - 1s 4ms/step - loss: 0.5964 - fn: 0.0000e+00 - fp: 609.0000 - tn: 3072.0000 - tp: 137.0000 - precision: 0.1836 - recall: 1.0000 - val_loss: 0.4962 - val_fn: 9.0000 - val_fp: 264.0000 - val_tn: 1328.0000 - val_tp: 36.0000 - val_precision: 0.1200 - val_recall: 0.8000\n",
      "Epoch 20/100\n",
      "120/120 [==============================] - 1s 4ms/step - loss: 0.5974 - fn: 0.0000e+00 - fp: 573.0000 - tn: 3108.0000 - tp: 137.0000 - precision: 0.1930 - recall: 1.0000 - val_loss: 0.4939 - val_fn: 9.0000 - val_fp: 263.0000 - val_tn: 1329.0000 - val_tp: 36.0000 - val_precision: 0.1204 - val_recall: 0.8000\n",
      "Epoch 21/100\n",
      "120/120 [==============================] - 1s 5ms/step - loss: 0.5767 - fn: 0.0000e+00 - fp: 582.0000 - tn: 3099.0000 - tp: 137.0000 - precision: 0.1905 - recall: 1.0000 - val_loss: 0.5107 - val_fn: 9.0000 - val_fp: 265.0000 - val_tn: 1327.0000 - val_tp: 36.0000 - val_precision: 0.1196 - val_recall: 0.8000\n",
      "Epoch 22/100\n",
      "120/120 [==============================] - 1s 4ms/step - loss: 0.5705 - fn: 0.0000e+00 - fp: 567.0000 - tn: 3114.0000 - tp: 137.0000 - precision: 0.1946 - recall: 1.0000 - val_loss: 0.4297 - val_fn: 14.0000 - val_fp: 235.0000 - val_tn: 1357.0000 - val_tp: 31.0000 - val_precision: 0.1165 - val_recall: 0.6889\n",
      "Epoch 23/100\n",
      "120/120 [==============================] - 1s 4ms/step - loss: 0.5314 - fn: 0.0000e+00 - fp: 537.0000 - tn: 3144.0000 - tp: 137.0000 - precision: 0.2033 - recall: 1.0000 - val_loss: 0.4476 - val_fn: 14.0000 - val_fp: 233.0000 - val_tn: 1359.0000 - val_tp: 31.0000 - val_precision: 0.1174 - val_recall: 0.6889\n",
      "Epoch 24/100\n",
      "120/120 [==============================] - 1s 4ms/step - loss: 0.5313 - fn: 0.0000e+00 - fp: 534.0000 - tn: 3147.0000 - tp: 137.0000 - precision: 0.2042 - recall: 1.0000 - val_loss: 0.4292 - val_fn: 13.0000 - val_fp: 231.0000 - val_tn: 1361.0000 - val_tp: 32.0000 - val_precision: 0.1217 - val_recall: 0.7111\n",
      "Epoch 25/100\n",
      "120/120 [==============================] - 1s 4ms/step - loss: 0.5297 - fn: 0.0000e+00 - fp: 513.0000 - tn: 3168.0000 - tp: 137.0000 - precision: 0.2108 - recall: 1.0000 - val_loss: 0.4812 - val_fn: 12.0000 - val_fp: 244.0000 - val_tn: 1348.0000 - val_tp: 33.0000 - val_precision: 0.1191 - val_recall: 0.7333\n",
      "Epoch 26/100\n",
      "120/120 [==============================] - 1s 4ms/step - loss: 0.5215 - fn: 0.0000e+00 - fp: 523.0000 - tn: 3158.0000 - tp: 137.0000 - precision: 0.2076 - recall: 1.0000 - val_loss: 0.3922 - val_fn: 14.0000 - val_fp: 215.0000 - val_tn: 1377.0000 - val_tp: 31.0000 - val_precision: 0.1260 - val_recall: 0.6889\n",
      "Epoch 27/100\n",
      "120/120 [==============================] - 1s 5ms/step - loss: 0.4868 - fn: 0.0000e+00 - fp: 477.0000 - tn: 3204.0000 - tp: 137.0000 - precision: 0.2231 - recall: 1.0000 - val_loss: 0.4292 - val_fn: 13.0000 - val_fp: 226.0000 - val_tn: 1366.0000 - val_tp: 32.0000 - val_precision: 0.1240 - val_recall: 0.7111\n",
      "Epoch 28/100\n",
      "120/120 [==============================] - 1s 5ms/step - loss: 0.4579 - fn: 0.0000e+00 - fp: 470.0000 - tn: 3211.0000 - tp: 137.0000 - precision: 0.2257 - recall: 1.0000 - val_loss: 0.4166 - val_fn: 14.0000 - val_fp: 221.0000 - val_tn: 1371.0000 - val_tp: 31.0000 - val_precision: 0.1230 - val_recall: 0.6889\n",
      "Epoch 29/100\n",
      "120/120 [==============================] - 1s 4ms/step - loss: 0.4753 - fn: 0.0000e+00 - fp: 463.0000 - tn: 3218.0000 - tp: 137.0000 - precision: 0.2283 - recall: 1.0000 - val_loss: 0.4249 - val_fn: 13.0000 - val_fp: 220.0000 - val_tn: 1372.0000 - val_tp: 32.0000 - val_precision: 0.1270 - val_recall: 0.7111\n",
      "Epoch 30/100\n",
      "120/120 [==============================] - 1s 4ms/step - loss: 0.4414 - fn: 0.0000e+00 - fp: 453.0000 - tn: 3228.0000 - tp: 137.0000 - precision: 0.2322 - recall: 1.0000 - val_loss: 0.4119 - val_fn: 14.0000 - val_fp: 211.0000 - val_tn: 1381.0000 - val_tp: 31.0000 - val_precision: 0.1281 - val_recall: 0.6889\n",
      "Epoch 31/100\n",
      "120/120 [==============================] - 1s 4ms/step - loss: 0.4487 - fn: 0.0000e+00 - fp: 443.0000 - tn: 3238.0000 - tp: 137.0000 - precision: 0.2362 - recall: 1.0000 - val_loss: 0.4241 - val_fn: 14.0000 - val_fp: 214.0000 - val_tn: 1378.0000 - val_tp: 31.0000 - val_precision: 0.1265 - val_recall: 0.6889\n"
     ]
    }
   ],
   "source": [
    "history=model.fit(x=x_train,\n",
    "                  y=train_targets,\n",
    "                  epochs=100,\n",
    "                  verbose=1,\n",
    "                  batch_size=32,\n",
    "                  callbacks=early_stopping,\n",
    "                  class_weight=class_weights,\n",
    "                  validation_data=(x_val,val_targets))"
   ]
  },
  {
   "cell_type": "code",
   "execution_count": 74,
   "id": "f0e6a4e8-5315-40e3-9f19-9518bfa6620d",
   "metadata": {},
   "outputs": [
    {
     "name": "stdout",
     "output_type": "stream",
     "text": [
      "43/43 [==============================] - 0s 3ms/step - loss: 0.4302 - fn: 5.0000 - fp: 200.0000 - tn: 1126.0000 - tp: 33.0000 - precision: 0.1416 - recall: 0.8684\n",
      "[0.43022412061691284, 5.0, 200.0, 1126.0, 33.0, 0.14163090288639069, 0.8684210777282715]\n"
     ]
    }
   ],
   "source": [
    "prediction_nnu = model.evaluate(x_test,test_targets,batch_size=32)\n",
    "print(prediction_nnu)"
   ]
  },
  {
   "cell_type": "code",
   "execution_count": null,
   "id": "f11664cc-d7be-40c2-810e-e7bcec845871",
   "metadata": {},
   "outputs": [],
   "source": []
  },
  {
   "cell_type": "code",
   "execution_count": null,
   "id": "f6b3d360-59ca-4968-93ca-38daebbb778f",
   "metadata": {},
   "outputs": [],
   "source": []
  }
 ],
 "metadata": {
  "kernelspec": {
   "display_name": "Python 3 (ipykernel)",
   "language": "python",
   "name": "python3"
  },
  "language_info": {
   "codemirror_mode": {
    "name": "ipython",
    "version": 3
   },
   "file_extension": ".py",
   "mimetype": "text/x-python",
   "name": "python",
   "nbconvert_exporter": "python",
   "pygments_lexer": "ipython3",
   "version": "3.10.4"
  }
 },
 "nbformat": 4,
 "nbformat_minor": 5
}
