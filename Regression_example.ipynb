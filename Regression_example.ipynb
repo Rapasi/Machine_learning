{
 "cells": [
  {
   "cell_type": "code",
   "execution_count": 1,
   "id": "26a90c45-8625-4033-86f4-2fb5c26e62a2",
   "metadata": {},
   "outputs": [
    {
     "name": "stderr",
     "output_type": "stream",
     "text": [
      "2022-04-06 19:26:01.171174: W tensorflow/stream_executor/platform/default/dso_loader.cc:64] Could not load dynamic library 'libcudart.so.11.0'; dlerror: libcudart.so.11.0: cannot open shared object file: No such file or directory\n",
      "2022-04-06 19:26:01.171192: I tensorflow/stream_executor/cuda/cudart_stub.cc:29] Ignore above cudart dlerror if you do not have a GPU set up on your machine.\n"
     ]
    }
   ],
   "source": [
    "from keras.datasets import boston_housing\n",
    "import numpy as np\n",
    "from keras import models\n",
    "from keras import layers\n",
    "import matplotlib.pyplot as plt"
   ]
  },
  {
   "cell_type": "code",
   "execution_count": 2,
   "id": "9915f4cc-578d-43ee-94d9-d5924e4a18a0",
   "metadata": {},
   "outputs": [],
   "source": [
    "(train_data,train_targets),(test_data,test_targets)=boston_housing.load_data()"
   ]
  },
  {
   "cell_type": "code",
   "execution_count": 3,
   "id": "cb66f281-cb97-4a11-b062-0c559bcb080a",
   "metadata": {},
   "outputs": [
    {
     "data": {
      "text/plain": [
       "(404, 13)"
      ]
     },
     "execution_count": 3,
     "metadata": {},
     "output_type": "execute_result"
    }
   ],
   "source": [
    "train_data.shape"
   ]
  },
  {
   "cell_type": "code",
   "execution_count": 4,
   "id": "03dc1e23-9c6b-4fc6-bd20-2b58b0c3370d",
   "metadata": {},
   "outputs": [],
   "source": [
    "mean=train_data.mean(axis=0)\n",
    "train_data-=mean\n",
    "std=train_data.std(axis=0)\n",
    "train_data/=std\n",
    "\n",
    "test_data-=mean\n",
    "test_data/=std"
   ]
  },
  {
   "cell_type": "code",
   "execution_count": 5,
   "id": "3ae21c6b-4142-4fcd-bb81-1a6aca74e99d",
   "metadata": {},
   "outputs": [],
   "source": [
    "def build_model():\n",
    "    model=models.Sequential()\n",
    "    model.add(layers.Dense(64,activation='relu',input_shape=(train_data.shape[1],)))\n",
    "    model.add(layers.Dense(64,activation='relu'))\n",
    "    model.add(layers.Dense(1))\n",
    "    model.compile(optimizer='rmsprop',loss='mse',metrics=['mae'])\n",
    "    return model"
   ]
  },
  {
   "cell_type": "code",
   "execution_count": 6,
   "id": "56d2fb9d-c682-4547-83aa-2b7d6200185a",
   "metadata": {},
   "outputs": [],
   "source": [
    "k=4\n",
    "num_val_samples=len(train_data)//k\n",
    "num_epoches=100\n",
    "all_scores=[]"
   ]
  },
  {
   "cell_type": "code",
   "execution_count": null,
   "id": "1b919ab1-5d80-48d1-8372-7a3a45deec63",
   "metadata": {},
   "outputs": [],
   "source": [
    "for i in range(k):\n",
    "    print('processing fold #',i)\n",
    "    val_data=train_data[i*num_val_samples: (i+1)*num_val_samples]\n",
    "    val_targets=train_targets[i*num_val_samples: (i+1)*num_val_samples]\n",
    "    \n",
    "    partial_train_data=np.concatenate(\n",
    "        [train_data[:i*num_val_samples:],\n",
    "         train_data[(i+1)*num_val_samples:]],\n",
    "        axis=0)\n",
    "    partial_train_targets=np.concatenate(\n",
    "        [train_targets[:i*num_val_samples:],\n",
    "         train_targets[(i+1)*num_val_samples:]],\n",
    "        axis=0)\n",
    "    model=build_model()\n",
    "    model.fit(partial_train_data,partial_train_targets,\n",
    "             epochs=num_epoches,batch_size=1,verbose=0)\n",
    "    val_mse,val_mae=model.evaluate(val_data,val_targets,verbose=0)\n",
    "    all_scores.append(val_mae)"
   ]
  },
  {
   "cell_type": "code",
   "execution_count": null,
   "id": "d845d053-70da-40c1-8f39-15dfab59148b",
   "metadata": {},
   "outputs": [],
   "source": [
    "print(all_scores)\n",
    "print(np.mean(all_scores))"
   ]
  },
  {
   "cell_type": "code",
   "execution_count": 10,
   "id": "08ee9b8a-f488-44d4-bd7e-fb3c40ea1a96",
   "metadata": {},
   "outputs": [
    {
     "name": "stdout",
     "output_type": "stream",
     "text": [
      "processing fold # 0\n",
      "processing fold # 1\n",
      "processing fold # 2\n",
      "processing fold # 3\n"
     ]
    },
    {
     "data": {
      "text/plain": [
       "Text(0.5, 0, 'Epochs')"
      ]
     },
     "execution_count": 10,
     "metadata": {},
     "output_type": "execute_result"
    },
    {
     "data": {
      "image/png": "[encoded data removed]",
      "text/plain": [
       "<Figure size 432x288 with 1 Axes>"
      ]
     },
     "metadata": {
      "needs_background": "light"
     },
     "output_type": "display_data"
    }
   ],
   "source": [
    "num_epoches=500\n",
    "all_mae_histories=[]\n",
    "%timeit \n",
    "for i in range(k):\n",
    "    print('processing fold #',i)\n",
    "    val_data=train_data[i*num_val_samples: (i+1)*num_val_samples]\n",
    "    val_targets=train_targets[i*num_val_samples: (i+1)*num_val_samples]\n",
    "\n",
    "    partial_train_data=np.concatenate(\n",
    "        [train_data[:i*num_val_samples:],\n",
    "         train_data[(i+1)*num_val_samples:]],\n",
    "        axis=0)\n",
    "    partial_train_targets=np.concatenate(\n",
    "        [train_targets[:i*num_val_samples:],\n",
    "         train_targets[(i+1)*num_val_samples:]],\n",
    "        axis=0)\n",
    "    model=build_model()\n",
    "    history=model.fit(partial_train_data,partial_train_targets,\n",
    "              validation_data=(val_data,val_targets),\n",
    "             epochs=num_epoches,batch_size=1,verbose=0)\n",
    "    #history_dict=history.history\n",
    "    #print(history_dict.keys())\n",
    "    mae_history=history.history['val_mae']\n",
    "    all_mae_histories.append(mae_history)\n",
    "\n",
    "average_mae_history=[np.mean([x[i] for x in all_mae_histories]) for i in range(num_epoches)]\n",
    "\n",
    "plt.plot(range(1,len(average_mae_history)+1),average_mae_history)\n",
    "plt.ylabel('Validation MAE')\n",
    "plt.xlabel('Epochs')\n"
   ]
  },
  {
   "cell_type": "code",
   "execution_count": null,
   "id": "142748ef-d0ee-44b2-bf7d-e01f21c8c1ad",
   "metadata": {},
   "outputs": [],
   "source": [
    "def smooth_curve(points,factor=.9):\n",
    "    smoothed_points=[]\n",
    "    for point in points:\n",
    "        if smoothed_points:\n",
    "            previous=smoothed_points[-1]\n",
    "            smoothed_points.append(previous*factor+point*(1-factor))\n",
    "        else:\n",
    "            smoothed_points.append(point)\n",
    "    return smoothed_points\n",
    "\n",
    "smooth_mae_history=smooth_curve(average_mae_history[10:])\n",
    "plt.plot(range(1,len(smooth_mae_history)+1),smooth_mae_history)\n",
    "plt.ylabel('Validation MAE')\n",
    "plt.xlabel('Epochs')\n"
   ]
  },
  {
   "cell_type": "code",
   "execution_count": 9,
   "id": "158ce26a-5fdd-41e7-8fe7-4e2b309af904",
   "metadata": {},
   "outputs": [
    {
     "name": "stdout",
     "output_type": "stream",
     "text": [
      "11.8 ms ± 52.7 µs per loop (mean ± std. dev. of 7 runs, 100 loops each)\n",
      "4/4 [==============================] - 0s 1ms/step - loss: 13.2391 - mae: 2.4968\n"
     ]
    },
    {
     "data": {
      "text/plain": [
       "2.4968490600585938"
      ]
     },
     "execution_count": 9,
     "metadata": {},
     "output_type": "execute_result"
    }
   ],
   "source": [
    "%timeit model= build_model()\n",
    "model.fit(train_data,train_targets,epochs=80,batch_size=16,verbose=0)\n",
    "test_mse_score, test_mae_score=model.evaluate(test_data,test_targets)\n",
    "test_mae_score"
   ]
  },
  {
   "cell_type": "code",
   "execution_count": null,
   "id": "c56d5fc9-d949-43e5-8855-12ca5d64c9e5",
   "metadata": {},
   "outputs": [],
   "source": []
  }
 ],
 "metadata": {
  "kernelspec": {
   "display_name": "Python 3 (ipykernel)",
   "language": "python",
   "name": "python3"
  },
  "language_info": {
   "codemirror_mode": {
    "name": "ipython",
    "version": 3
   },
   "file_extension": ".py",
   "mimetype": "text/x-python",
   "name": "python",
   "nbconvert_exporter": "python",
   "pygments_lexer": "ipython3",
   "version": "3.8.10"
  }
 },
 "nbformat": 4,
 "nbformat_minor": 5
}
