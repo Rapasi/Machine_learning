{
 "cells": [
  {
   "cell_type": "code",
   "execution_count": 11,
   "id": "76bf90bb-3fc5-4943-bbca-95acf397ff80",
   "metadata": {},
   "outputs": [],
   "source": [
    "import pylab \n",
    "import numpy\n",
    "import autograd.numpy as np \n",
    "import autograd.numpy.random as npr \n",
    "from autograd import grad \n",
    "import sklearn.metrics \n",
    "import theano.tensor as T \n",
    "from theano import function\n",
    "from theano import shared\n",
    "from keras.datasets import imdb, reuters\n",
    "from keras import layers\n",
    "from keras import models\n",
    "from keras.utils.np_utils import to_categorical\n",
    "import matplotlib.pyplot as plt\n"
   ]
  },
  {
   "cell_type": "code",
   "execution_count": null,
   "id": "faf6f04c-ee8d-4fa2-838b-d2847f9ab6ef",
   "metadata": {
    "tags": []
   },
   "outputs": [],
   "source": [
    "x=numpy.linspace(-1,1,100)\n",
    "signal=2+x+2*x*x*x\n",
    "noise=numpy.random.normal(0,0.1,100)\n",
    "y=signal+noise\n",
    "pylab.plot(signal,'b')\n",
    "pylab.plot(y,'g') \n",
    "pylab.plot(noise, 'r') \n",
    "pylab.xlabel(\"x\") \n",
    "pylab.ylabel(\"y\") \n",
    "pylab.legend([\"Without Noise\", \"With Noise\", \"Noise\"], loc = 2)"
   ]
  },
  {
   "cell_type": "code",
   "execution_count": null,
   "id": "6d10e7dd-d432-484d-a7ef-28d9af7af001",
   "metadata": {},
   "outputs": [],
   "source": [
    "x_train=x[0:80]\n",
    "y_train=y[0:80]\n"
   ]
  },
  {
   "cell_type": "code",
   "execution_count": null,
   "id": "0ba48010-bb79-4e21-a658-b9b9d87d19be",
   "metadata": {},
   "outputs": [],
   "source": [
    "pylab.figure()\n",
    "degree=2\n",
    "X_train=numpy.column_stack([numpy.power(x_train,i) for i in range(0,degree)])\n",
    "model=numpy.dot(numpy.dot(numpy.linalg.inv(numpy.dot(X_train.transpose(),X_train)),X_train.transpose()),y_train)\n",
    "pylab.plot(x,y,'g') \n",
    "pylab.xlabel(\"x\") \n",
    "pylab.ylabel(\"y\") \n",
    "predicted = numpy.dot(model, [numpy.power(x,i) for i in range(0,degree)]) \n",
    "pylab.plot(x, predicted,'r') \n",
    "pylab.legend([\"Actual\", \"Predicted\"], loc = 2) \n",
    "train_rmse1 = numpy.sqrt(numpy.sum(numpy.dot(y[0:80] - predicted[0:80], y_train - predicted[0:80]))) \n",
    "test_rmse1 = numpy.sqrt(numpy.sum(numpy.dot(y[80:] - predicted[80:], y[80:] - predicted[80:]))) \n",
    "print(\"Train RMSE (Degree = 1)\", train_rmse1) \n",
    "print(\"Test RMSE (Degree = 1)\", test_rmse1)\n"
   ]
  },
  {
   "cell_type": "code",
   "execution_count": null,
   "id": "b16adaee-5e66-47b9-a526-d69a6e2aeae2",
   "metadata": {
    "tags": []
   },
   "outputs": [],
   "source": [
    "# Model with degree 2                 \n",
    "pylab.figure() \n",
    "degree = 3 \n",
    "X_train = numpy.column_stack([numpy.power(x_train,i) for i in range(0,degree)]) \n",
    "model = numpy.dot(numpy.dot(numpy.linalg.inv(numpy.dot(X_train.transpose(),X_train)),X_train.transpose()),y_train) \n",
    "pylab.plot(x,y,'g') \n",
    "pylab.xlabel(\"x\") \n",
    "pylab.ylabel(\"y\") \n",
    "predicted = numpy.dot(model, [numpy.power(x,i) for i in range(0,degree)]) \n",
    "pylab.plot(x, predicted,'r') \n",
    "pylab.legend([\"Actual\", \"Predicted\"], loc = 2) \n",
    "train_rmse1 = numpy.sqrt(numpy.sum(numpy.dot(y[0:80] - predicted[0:80], y_train - predicted[0:80]))) \n",
    "test_rmse1 = numpy.sqrt(numpy.sum(numpy.dot(y[80:] - predicted[80:], y[80:] - predicted[80:]))) \n",
    "print(\"Train RMSE (Degree = 2)\", train_rmse1) \n",
    "print(\"Test RMSE (Degree = 2)\", test_rmse1)"
   ]
  },
  {
   "cell_type": "code",
   "execution_count": null,
   "id": "38a85ef6-22ec-47f9-8d25-071646c0be09",
   "metadata": {},
   "outputs": [],
   "source": [
    "# Model with degree 8 \n",
    "pylab.figure() \n",
    "degree = 9 \n",
    "X_train = numpy.column_stack([numpy.power(x_train,i) for i in range(0,degree)]) \n",
    "model = numpy.dot(numpy.dot(numpy.linalg.inv(numpy.dot(X_train.transpose(),X_train)),X_train.transpose()), y_train) \n",
    "pylab.plot(x, y,'g') \n",
    "pylab.xlabel(\"x\") \n",
    "pylab.ylabel(\"y\") \n",
    "predicted = numpy.dot(model, [numpy.power(x,i) for i in range(0,degree)]) \n",
    "pylab.plot(x, predicted,'r') \n",
    "pylab.legend([\"Actual\", \"Predicted\"], loc = 3) \n",
    "train_rmse2 = numpy.sqrt(numpy.sum(numpy.dot(y[0:80] - predicted[0:80], y_train - predicted[0:80]))) \n",
    "test_rmse2 = numpy.sqrt(numpy.sum(numpy.dot(y[80:] - predicted[80:], y[80:] - predicted[80:]))) \n",
    "print(\"Train RMSE (Degree = 8)\", train_rmse2) \n",
    "print(\"Test RMSE (Degree = 8)\", test_rmse2)"
   ]
  },
  {
   "cell_type": "code",
   "execution_count": null,
   "id": "0cd5a5cb-d9cd-4eda-b8ac-14d56b7c07df",
   "metadata": {},
   "outputs": [],
   "source": [
    "# Model with degree 3\n",
    "pylab.figure() \n",
    "degree = 4 \n",
    "X_train = numpy.column_stack([numpy.power(x_train,i) for i in range(0,degree)]) \n",
    "model = numpy.dot(numpy.dot(numpy.linalg.inv(numpy.dot(X_train.transpose(),X_train)),X_train.transpose()), y_train) \n",
    "pylab.plot(x, y,'g') \n",
    "pylab.xlabel(\"x\") \n",
    "pylab.ylabel(\"y\") \n",
    "predicted = numpy.dot(model, [numpy.power(x,i) for i in range(0,degree)]) \n",
    "pylab.plot(x, predicted,'r') \n",
    "pylab.legend([\"Actual\", \"Predicted\"], loc = 3) \n",
    "train_rmse2 = numpy.sqrt(numpy.sum(numpy.dot(y[0:80] - predicted[0:80], y_train - predicted[0:80]))) \n",
    "test_rmse2 = numpy.sqrt(numpy.sum(numpy.dot(y[80:] - predicted[80:], y[80:] - predicted[80:]))) \n",
    "print(\"Train RMSE (Degree = 3)\", train_rmse2) \n",
    "print(\"Test RMSE (Degree = 3)\", test_rmse2)"
   ]
  },
  {
   "cell_type": "code",
   "execution_count": null,
   "id": "02332f03-3733-4c90-bfa9-724461a415b3",
   "metadata": {},
   "outputs": [],
   "source": [
    "# Model with degree 4\n",
    "pylab.figure() \n",
    "degree = 5\n",
    "X_train = numpy.column_stack([numpy.power(x_train,i) for i in range(0,degree)]) \n",
    "model = numpy.dot(numpy.dot(numpy.linalg.inv(numpy.dot(X_train.transpose(),X_train)),X_train.transpose()), y_train) \n",
    "pylab.plot(x, y,'g') \n",
    "pylab.xlabel(\"x\") \n",
    "pylab.ylabel(\"y\") \n",
    "predicted = numpy.dot(model, [numpy.power(x,i) for i in range(0,degree)]) \n",
    "pylab.plot(x, predicted,'r') \n",
    "pylab.legend([\"Actual\", \"Predicted\"], loc = 3) \n",
    "train_rmse2 = numpy.sqrt(numpy.sum(numpy.dot(y[0:80] - predicted[0:80], y_train - predicted[0:80]))) \n",
    "test_rmse2 = numpy.sqrt(numpy.sum(numpy.dot(y[80:] - predicted[80:], y[80:] - predicted[80:]))) \n",
    "print(\"Train RMSE (Degree = 4)\", train_rmse2) \n",
    "print(\"Test RMSE (Degree = 4)\", test_rmse2)"
   ]
  },
  {
   "cell_type": "code",
   "execution_count": null,
   "id": "3c945da6-309c-474e-9334-6ccde572e194",
   "metadata": {},
   "outputs": [],
   "source": [
    "examples = 1000\n",
    "features = 100\n",
    "D = (npr.randn(examples, features), npr.randn(examples)) \n",
    "# Specify the network \n",
    "layer1_units = 20 \n",
    "layer2_units = 1 \n",
    "w1 = npr.rand(features, layer1_units) \n",
    "b1 = npr.rand(layer1_units) \n",
    "w2 = npr.rand(layer1_units, layer2_units) \n",
    "b2 = 0.0 \n",
    "theta = (w1, b1, w2, b2) \n",
    "# Define the loss function \n",
    "def squared_loss(y, y_hat):     \n",
    "    return np.dot((y - y_hat),(y - y_hat)) \n",
    "#Output Layer \n",
    "def binary_cross_entropy(y, y_hat):     \n",
    "    return np.sum(-((y * np.log(y_hat)) + ((1-y) * np.log(1 - y_hat)))) \n",
    "# Wraper around the Neural Network \n",
    "def neural_network(x, theta):     \n",
    "    w1, b1, w2, b2 = theta     \n",
    "    return np.tanh(np.dot((np.tanh(np.dot(x,w1) + b1)), w2) + b2)\n",
    "# Wrapper around the objective function to be optimised \n",
    "def objective(theta, idx):     \n",
    "    return squared_loss(D[1][idx], neural_network(D[0][idx], theta)) \n",
    "# Update \n",
    "def update_theta(theta, delta, alpha):     \n",
    "    w1, b1, w2, b2 = theta     \n",
    "    w1_delta, b1_delta, w2_delta, b2_delta = delta     \n",
    "    w1_new = w1 - alpha * w1_delta     \n",
    "    b1_new = b1 - alpha * b1_delta     \n",
    "    w2_new = w2 - alpha * w2_delta     \n",
    "    b2_new = b2 - alpha * b2_delta     \n",
    "    new_theta = (w1_new,b1_new,w2_new,b2_new)     \n",
    "    return new_theta\n",
    "\n",
    "# Compute Gradient\n",
    "grad_objective = grad(objective) \n",
    "# Train the Neural Network \n",
    "epochs = 20\n",
    "print (\"RMSE before training:\",\n",
    "sklearn.metrics.mean_squared_error(D[1],neural_network(D[0], theta)))\n",
    "rmse = [] \n",
    "for i in range(0, epochs):     \n",
    "    for j in range(0, examples):         \n",
    "        delta = grad_objective(theta, j)         \n",
    "        theta = update_theta(theta,delta, 0.01) \n",
    "        rmse.append(sklearn.metrics.mean_squared_error(D[1],neural_network(D[0], theta))) \n",
    "print (\"RMSE after training:\", \n",
    "sklearn.metrics.mean_squared_error(D[1],neural_network(D[0], theta))) \n"
   ]
  },
  {
   "cell_type": "code",
   "execution_count": null,
   "id": "f401fb40-e122-4b88-935f-c797b61a556b",
   "metadata": {},
   "outputs": [],
   "source": [
    "pylab.plot(rmse) \n",
    "pylab.show()"
   ]
  },
  {
   "cell_type": "code",
   "execution_count": null,
   "id": "7760b02a-a908-474b-8c8d-4f3b92f0a990",
   "metadata": {},
   "outputs": [],
   "source": [
    "a = T.dscalar('a') \n",
    "b = T.dscalar('b') \n",
    "c = T.dscalar('c') \n",
    "d = T.dscalar('d') \n",
    "e = T.dscalar('e') \n",
    "f= ((a - b + c) * d )/e \n",
    "g = function([a, b, c, d, e], f) \n",
    "print (\"Expected: ((1 - 2 + 3) * 4)/5.0 = \", ((1 - 2 + 3) * 4)/5.0 )\n",
    "print (\"Via Theano: ((1 - 2 + 3) * 4)/5.0 = \",  g(1, 2, 3, 4, 5))"
   ]
  },
  {
   "cell_type": "code",
   "execution_count": null,
   "id": "680c544c-9d30-4a66-b4ef-d7159aeb5c3e",
   "metadata": {},
   "outputs": [],
   "source": [
    "y = shared(numpy.array([[4, 5, 6]]))\n",
    "print(y.get_value())"
   ]
  },
  {
   "cell_type": "markdown",
   "id": "59cc0335-6b32-422a-bbc9-f2629f7d40bd",
   "metadata": {},
   "source": []
  },
  {
   "cell_type": "markdown",
   "id": "3287b22f-a448-468d-b61c-883d501162b9",
   "metadata": {},
   "source": [
    "# Binary classification"
   ]
  },
  {
   "cell_type": "code",
   "execution_count": null,
   "id": "5eae6f76-b6d3-4290-9e4f-f97cb7baa469",
   "metadata": {},
   "outputs": [],
   "source": [
    "(train_data,train_labels),(test_data,test_labels) =imdb.load_data(num_words=10000)"
   ]
  },
  {
   "cell_type": "code",
   "execution_count": null,
   "id": "9390f48a-3c2d-4d8c-856b-b8e29f1ed2b2",
   "metadata": {},
   "outputs": [],
   "source": [
    "train_labels[0]"
   ]
  },
  {
   "cell_type": "code",
   "execution_count": null,
   "id": "4fab10af-c342-42a5-8e01-c236a0753a84",
   "metadata": {},
   "outputs": [],
   "source": [
    "max([max(sequence) for sequence in train_data])"
   ]
  },
  {
   "cell_type": "code",
   "execution_count": null,
   "id": "4beb87b2-faa4-4479-bb88-aeba25d11562",
   "metadata": {},
   "outputs": [],
   "source": [
    "def vectorize_sequences(sequences,dimensions=10000):\n",
    "    results=np.zeros((len(sequences),dimensions))\n",
    "    for i, sequence in enumerate(sequences):\n",
    "        results[i,sequence]=1.\n",
    "    return results\n"
   ]
  },
  {
   "cell_type": "code",
   "execution_count": null,
   "id": "7f677b24-eb76-4846-be3d-55c019c67183",
   "metadata": {},
   "outputs": [],
   "source": [
    "x_train=vectorize_sequences(train_data)\n",
    "x_test=vectorize_sequences(test_data)"
   ]
  },
  {
   "cell_type": "code",
   "execution_count": null,
   "id": "c0babb20-3a78-4803-899d-040d045bd5f3",
   "metadata": {},
   "outputs": [],
   "source": [
    "y_train=np.asarray(train_labels).astype('float32').reshape((-1,1))\n",
    "y_test=np.asarray(test_labels).astype('float32').reshape((-1,1))"
   ]
  },
  {
   "cell_type": "code",
   "execution_count": null,
   "id": "daee19db-23ee-4f99-92ad-124748af171d",
   "metadata": {},
   "outputs": [],
   "source": [
    "model=models.Sequential()\n",
    "model.add(layers.Dense(16,activation='relu',input_shape=(10000,)))\n",
    "model.add(layers.Dense(16,activation='relu'))\n",
    "model.add(layers.Dense(1,activation='sigmoid'))\n",
    "\n",
    "model.compile(optimizer='rmsprop',loss='binary_crossentropy',metrics=['accuracy'])\n",
    "\n",
    "x_val=x_train[:10000]\n",
    "partial_x_train=x_train[10000:]\n",
    "y_val=y_train[:10000]\n",
    "partial_y_train=y_train[10000:]\n",
    "\n",
    "history=model.fit(partial_x_train,\n",
    "                  partial_y_train,\n",
    "                  epochs=20,\n",
    "                  batch_size=512,\n",
    "                  validation_data=(x_val,y_val))\n",
    "\n",
    "history_dict=history.history\n",
    "history_dict.keys()"
   ]
  },
  {
   "cell_type": "code",
   "execution_count": null,
   "id": "2627baf5-2ff9-4128-b767-feff249afc46",
   "metadata": {},
   "outputs": [],
   "source": [
    "loss_values=history_dict['loss']\n",
    "val_loss_values=history_dict['val_loss']\n",
    "\n",
    "epochs=range(1,len(history_dict['accuracy'])+1)\n",
    "\n",
    "plt.plot(epochs,loss_values,'bo',label='Training loss')\n",
    "plt.plot(epochs,val_loss_values,'b',label='Validation loss')\n",
    "plt.title('Training and valitation loss')\n",
    "plt.xlabel('Epochs')\n",
    "plt.ylabel('Loss')\n",
    "plt.legend()"
   ]
  },
  {
   "cell_type": "code",
   "execution_count": null,
   "id": "d69a10bf-d587-4cdb-8e15-d05d63c0853f",
   "metadata": {},
   "outputs": [],
   "source": [
    "plt.clf()\n",
    "acc_values=history_dict['accuracy']\n",
    "val_acc_values=history_dict['val_accuracy']\n",
    "plt.plot(epochs,acc_values,'bo',label='Training acc')\n",
    "plt.plot(epochs,val_acc_values,'b',label='Validation acc')\n",
    "plt.title('Training and validation accuracy')\n",
    "plt.xlabel('Epochs')\n",
    "plt.ylabel('Loss')\n",
    "plt.legend()"
   ]
  },
  {
   "cell_type": "code",
   "execution_count": null,
   "id": "4e1debb1-3715-4fe1-8ef4-db765b37ad8a",
   "metadata": {},
   "outputs": [],
   "source": [
    "model=models.Sequential()\n",
    "model.add(layers.Dense(16,activation='relu',input_shape=(10000,)))\n",
    "model.add(layers.Dense(16,activation='relu'))\n",
    "model.add(layers.Dense(16,activation='relu'))\n",
    "model.add(layers.Dense(16,activation='relu'))\n",
    "model.add(layers.Dense(1,activation='sigmoid'))\n",
    "\n",
    "model.compile(optimizer='rmsprop',loss='binary_crossentropy',metrics=['accuracy'])\n",
    "\n",
    "\n",
    "\n",
    "test_model=model.fit(partial_x_train,\n",
    "                     partial_y_train,\n",
    "                     epochs=4,\n",
    "                     batch_size=512,\n",
    "                     validation_data=(x_val,y_val))\n",
    "results=model.evaluate(x_test,y_test)\n",
    "print(results)\n",
    "history_dict_test=test_model.history\n",
    "history_dict_test.keys()"
   ]
  },
  {
   "cell_type": "code",
   "execution_count": null,
   "id": "9b902e60-f9ea-4b3a-a1a6-b81349e74288",
   "metadata": {},
   "outputs": [],
   "source": [
    "model.predict(x_test)"
   ]
  },
  {
   "cell_type": "code",
   "execution_count": null,
   "id": "69dbea2a-df5d-40ba-823c-cd547b74339b",
   "metadata": {},
   "outputs": [],
   "source": [
    "loss_values=history_dict_test['loss']\n",
    "val_loss_values=history_dict_test['val_loss']\n",
    "\n",
    "epochs=range(1,len(history_dict_test['accuracy'])+1)\n",
    "\n",
    "plt.plot(epochs,loss_values,'bo',label='Training loss')\n",
    "plt.plot(epochs,val_loss_values,'b',label='Validation loss')\n",
    "plt.title('Training and valitation loss')\n",
    "plt.xlabel('Epochs')\n",
    "plt.ylabel('Loss')\n",
    "plt.legend()"
   ]
  },
  {
   "cell_type": "code",
   "execution_count": null,
   "id": "65cab2ea-fc7f-4857-a34d-072924944625",
   "metadata": {},
   "outputs": [],
   "source": [
    "plt.clf()\n",
    "acc_values=history_dict_test['accuracy']\n",
    "val_acc_values=history_dict_test['val_accuracy']\n",
    "plt.plot(epochs,acc_values,'bo',label='Training acc')\n",
    "plt.plot(epochs,val_acc_values,'b',label='Validation acc')\n",
    "plt.title('Training and validation accuracy')\n",
    "plt.xlabel('Epochs')\n",
    "plt.ylabel('Loss')\n",
    "plt.legend()"
   ]
  },
  {
   "cell_type": "code",
   "execution_count": null,
   "id": "73a4f85d-d9b3-46d4-a906-8c14668ba52f",
   "metadata": {},
   "outputs": [],
   "source": []
  },
  {
   "cell_type": "markdown",
   "id": "2571d489-c0d3-44f0-bb54-500cde7dd49e",
   "metadata": {
    "tags": []
   },
   "source": [
    "# Multiclass classification"
   ]
  },
  {
   "cell_type": "code",
   "execution_count": 7,
   "id": "4b80a65a-6d10-4621-8bb6-d59ef65041bf",
   "metadata": {},
   "outputs": [],
   "source": [
    "(train_data,train_labels),(test_data,test_labels)=reuters.load_data(num_words=10000)"
   ]
  },
  {
   "cell_type": "code",
   "execution_count": 20,
   "id": "f4814f1b-deb0-4a79-b90c-f8bb50d28331",
   "metadata": {},
   "outputs": [
    {
     "data": {
      "text/plain": [
       "array([ 0,  1,  2,  3,  4,  5,  6,  7,  8,  9, 10, 11, 12, 13, 14, 15, 16,\n",
       "       17, 18, 19, 20, 21, 22, 23, 24, 25, 26, 27, 28, 29, 30, 31, 32, 33,\n",
       "       34, 35, 36, 37, 38, 39, 40, 41, 42, 43, 44, 45])"
      ]
     },
     "execution_count": 20,
     "metadata": {},
     "output_type": "execute_result"
    }
   ],
   "source": [
    "np.unique(train_labels)"
   ]
  },
  {
   "cell_type": "code",
   "execution_count": 8,
   "id": "0b3570ef-8190-42b8-bb22-74ed97912e74",
   "metadata": {},
   "outputs": [
    {
     "data": {
      "text/plain": [
       "8982"
      ]
     },
     "execution_count": 8,
     "metadata": {},
     "output_type": "execute_result"
    }
   ],
   "source": [
    "len(train_data)"
   ]
  },
  {
   "cell_type": "markdown",
   "id": "78c48791-d73f-4f34-9fb8-c90d8f863253",
   "metadata": {},
   "source": [
    "### Decoding back to words"
   ]
  },
  {
   "cell_type": "code",
   "execution_count": 9,
   "id": "76f28aac-5383-4b2a-8773-68f3996580f1",
   "metadata": {},
   "outputs": [
    {
     "name": "stdout",
     "output_type": "stream",
     "text": [
      "? the u s agriculture department estimated canada's 1986 87 wheat crop at 31 85 mln tonnes vs 31 85 mln tonnes last month it estimated 1985 86 output at 24 25 mln tonnes vs 24 25 mln last month canadian 1986 87 coarse grain production is projected at 27 62 mln tonnes vs 27 62 mln tonnes last month production in 1985 86 is estimated at 24 95 mln tonnes vs 24 95 mln last month canadian wheat exports in 1986 87 are forecast at 19 00 mln tonnes vs 18 00 mln tonnes last month exports in 1985 86 are estimated at 17 71 mln tonnes vs 17 72 mln last month reuter 3\n"
     ]
    }
   ],
   "source": [
    "word_index=reuters.get_word_index()\n",
    "reverse_word_index = dict([(value,key) for (key,value) in word_index.items()])\n",
    "decoded_newswire=' '.join([reverse_word_index.get(i-3,'?') for i in train_data[5]])\n",
    "print(decoded_newswire)"
   ]
  },
  {
   "cell_type": "code",
   "execution_count": 32,
   "id": "e2675ed3-d3d8-48d9-82e8-1a5d502d6124",
   "metadata": {},
   "outputs": [],
   "source": [
    "def vectorize(sequences,dimensions=10000):\n",
    "    results=np.zeros((len(sequences),dimensions))\n",
    "    for i,sequence in enumerate(sequences):\n",
    "        results[i,sequence]=1.\n",
    "    return results\n",
    "x_train=vectorize(train_data)\n",
    "x_test=vectorize(test_data)"
   ]
  },
  {
   "cell_type": "code",
   "execution_count": 33,
   "id": "33e16708-b380-4dff-9537-ee015994c6c8",
   "metadata": {},
   "outputs": [],
   "source": [
    "one_hot_train_labels=to_categorical(train_labels)\n",
    "one_hot_test_labels=to_categorical(test_labels)"
   ]
  },
  {
   "cell_type": "code",
   "execution_count": 34,
   "id": "dbd37efc-6ad6-4bda-8e11-2a19dc401405",
   "metadata": {},
   "outputs": [
    {
     "name": "stdout",
     "output_type": "stream",
     "text": [
      "Epoch 1/20\n",
      "16/16 [==============================] - 0s 15ms/step - loss: 2.5519 - accuracy: 0.5350 - val_loss: 1.6876 - val_accuracy: 0.6450\n",
      "Epoch 2/20\n",
      "16/16 [==============================] - 0s 11ms/step - loss: 1.3886 - accuracy: 0.7110 - val_loss: 1.3029 - val_accuracy: 0.7140\n",
      "Epoch 3/20\n",
      "16/16 [==============================] - 0s 11ms/step - loss: 1.0537 - accuracy: 0.7685 - val_loss: 1.1375 - val_accuracy: 0.7450\n",
      "Epoch 4/20\n",
      "16/16 [==============================] - 0s 10ms/step - loss: 0.8417 - accuracy: 0.8132 - val_loss: 1.0352 - val_accuracy: 0.7790\n",
      "Epoch 5/20\n",
      "16/16 [==============================] - 0s 11ms/step - loss: 0.6724 - accuracy: 0.8528 - val_loss: 0.9692 - val_accuracy: 0.7970\n",
      "Epoch 6/20\n",
      "16/16 [==============================] - 0s 11ms/step - loss: 0.5423 - accuracy: 0.8861 - val_loss: 0.9302 - val_accuracy: 0.8070\n",
      "Epoch 7/20\n",
      "16/16 [==============================] - 0s 11ms/step - loss: 0.4375 - accuracy: 0.9089 - val_loss: 0.9016 - val_accuracy: 0.8100\n",
      "Epoch 8/20\n",
      "16/16 [==============================] - 0s 11ms/step - loss: 0.3550 - accuracy: 0.9276 - val_loss: 0.9169 - val_accuracy: 0.8060\n",
      "Epoch 9/20\n",
      "16/16 [==============================] - 0s 11ms/step - loss: 0.2923 - accuracy: 0.9367 - val_loss: 0.8913 - val_accuracy: 0.8110\n",
      "Epoch 10/20\n",
      "16/16 [==============================] - 0s 11ms/step - loss: 0.2507 - accuracy: 0.9424 - val_loss: 0.9075 - val_accuracy: 0.8010\n",
      "Epoch 11/20\n",
      "16/16 [==============================] - 0s 11ms/step - loss: 0.2159 - accuracy: 0.9470 - val_loss: 0.9194 - val_accuracy: 0.8100\n",
      "Epoch 12/20\n",
      "16/16 [==============================] - 0s 11ms/step - loss: 0.1908 - accuracy: 0.9508 - val_loss: 1.0318 - val_accuracy: 0.7820\n",
      "Epoch 13/20\n",
      "16/16 [==============================] - 0s 11ms/step - loss: 0.1698 - accuracy: 0.9526 - val_loss: 1.0049 - val_accuracy: 0.7970\n",
      "Epoch 14/20\n",
      "16/16 [==============================] - 0s 11ms/step - loss: 0.1563 - accuracy: 0.9531 - val_loss: 1.0141 - val_accuracy: 0.7970\n",
      "Epoch 15/20\n",
      "16/16 [==============================] - 0s 11ms/step - loss: 0.1440 - accuracy: 0.9563 - val_loss: 0.9972 - val_accuracy: 0.8160\n",
      "Epoch 16/20\n",
      "16/16 [==============================] - 0s 11ms/step - loss: 0.1357 - accuracy: 0.9557 - val_loss: 1.0257 - val_accuracy: 0.8000\n",
      "Epoch 17/20\n",
      "16/16 [==============================] - 0s 10ms/step - loss: 0.1303 - accuracy: 0.9565 - val_loss: 1.0315 - val_accuracy: 0.8040\n",
      "Epoch 18/20\n",
      "16/16 [==============================] - 0s 11ms/step - loss: 0.1203 - accuracy: 0.9565 - val_loss: 1.0386 - val_accuracy: 0.8040\n",
      "Epoch 19/20\n",
      "16/16 [==============================] - 0s 11ms/step - loss: 0.1174 - accuracy: 0.9589 - val_loss: 1.0900 - val_accuracy: 0.7960\n",
      "Epoch 20/20\n",
      "16/16 [==============================] - 0s 10ms/step - loss: 0.1125 - accuracy: 0.9577 - val_loss: 1.0974 - val_accuracy: 0.8030\n"
     ]
    }
   ],
   "source": [
    "model=models.Sequential()\n",
    "model.add(layers.Dense(64,activation='relu',input_shape=(10000,)))\n",
    "model.add(layers.Dense(64,activation='relu'))\n",
    "model.add(layers.Dense(46,activation='softmax'))\n",
    "          \n",
    "model.compile(optimizer='rmsprop',\n",
    "             loss='categorical_crossentropy',\n",
    "             metrics=['accuracy'])\n",
    "x_val=x_train[:1000]\n",
    "partial_x_train=x_train[1000:]\n",
    "y_val=one_hot_train_labels[:1000]\n",
    "partial_y_train=one_hot_train_labels[1000:]\n",
    "\n",
    "history=model.fit(partial_x_train,\n",
    "                 partial_y_train,\n",
    "                 epochs=20,\n",
    "                 batch_size=512,\n",
    "                 validation_data=(x_val,y_val))\n"
   ]
  },
  {
   "cell_type": "code",
   "execution_count": 35,
   "id": "93576f8d-cd43-42ce-8689-a3e3175ffd60",
   "metadata": {},
   "outputs": [
    {
     "data": {
      "text/plain": [
       "<matplotlib.legend.Legend at 0x7f9007038cd0>"
      ]
     },
     "execution_count": 35,
     "metadata": {},
     "output_type": "execute_result"
    },
    {
     "data": {
      "image/png": "[encoded data removed]",
      "text/plain": [
       "<Figure size 432x288 with 1 Axes>"
      ]
     },
     "metadata": {
      "needs_background": "light"
     },
     "output_type": "display_data"
    }
   ],
   "source": [
    "loss=history.history['loss']\n",
    "val_loss=history.history['val_loss']\n",
    "\n",
    "epochs=range(1,len(loss)+1)\n",
    "\n",
    "plt.plot(epochs,loss,'bo',label='Training loss')\n",
    "plt.plot(epochs,val_loss,'b',label='Validation loss')\n",
    "plt.title('Training and validation accuracy')\n",
    "plt.xlabel('Epochs')\n",
    "plt.ylabel('Loss')\n",
    "plt.legend()"
   ]
  },
  {
   "cell_type": "code",
   "execution_count": 36,
   "id": "c9835c33-deae-4008-bf95-5db9dccc1304",
   "metadata": {},
   "outputs": [
    {
     "data": {
      "text/plain": [
       "<matplotlib.legend.Legend at 0x7f9006e67f70>"
      ]
     },
     "execution_count": 36,
     "metadata": {},
     "output_type": "execute_result"
    },
    {
     "data": {
      "image/png": "[encoded data removed]",
      "text/plain": [
       "<Figure size 432x288 with 1 Axes>"
      ]
     },
     "metadata": {
      "needs_background": "light"
     },
     "output_type": "display_data"
    }
   ],
   "source": [
    "acc=history.history['accuracy']\n",
    "val_acc=history.history['val_accuracy']\n",
    "plt.plot(epochs,acc,'bo',label='Training acc')\n",
    "plt.plot(epochs,val_acc,'b',label='Validation acc')\n",
    "plt.title('Training and validation accuracy')\n",
    "plt.xlabel('Epochs')\n",
    "plt.ylabel('Loss')\n",
    "plt.legend()"
   ]
  },
  {
   "cell_type": "code",
   "execution_count": 50,
   "id": "915c569d-3efd-4bbd-8ee4-0c648655a9f1",
   "metadata": {},
   "outputs": [
    {
     "name": "stdout",
     "output_type": "stream",
     "text": [
      "Epoch 1/9\n",
      "63/63 [==============================] - 1s 6ms/step - loss: 1.9244 - accuracy: 0.5598 - val_loss: 1.4157 - val_accuracy: 0.6790\n",
      "Epoch 2/9\n",
      "63/63 [==============================] - 0s 5ms/step - loss: 1.1811 - accuracy: 0.7220 - val_loss: 1.1913 - val_accuracy: 0.7200\n",
      "Epoch 3/9\n",
      "63/63 [==============================] - 0s 5ms/step - loss: 0.8623 - accuracy: 0.7907 - val_loss: 1.1667 - val_accuracy: 0.7460\n",
      "Epoch 4/9\n",
      "63/63 [==============================] - 0s 5ms/step - loss: 0.6196 - accuracy: 0.8518 - val_loss: 1.1262 - val_accuracy: 0.7610\n",
      "Epoch 5/9\n",
      "63/63 [==============================] - 0s 4ms/step - loss: 0.4456 - accuracy: 0.8965 - val_loss: 1.2015 - val_accuracy: 0.7600\n",
      "Epoch 6/9\n",
      "63/63 [==============================] - 0s 5ms/step - loss: 0.3274 - accuracy: 0.9219 - val_loss: 1.1731 - val_accuracy: 0.7830\n",
      "Epoch 7/9\n",
      "63/63 [==============================] - 0s 4ms/step - loss: 0.2516 - accuracy: 0.9380 - val_loss: 1.3609 - val_accuracy: 0.7890\n",
      "Epoch 8/9\n",
      "63/63 [==============================] - 0s 5ms/step - loss: 0.2147 - accuracy: 0.9458 - val_loss: 1.4255 - val_accuracy: 0.7650\n",
      "Epoch 9/9\n",
      "63/63 [==============================] - 0s 4ms/step - loss: 0.1846 - accuracy: 0.9503 - val_loss: 1.3595 - val_accuracy: 0.7810\n",
      "71/71 [==============================] - 0s 938us/step - loss: 1.4896 - accuracy: 0.7738\n"
     ]
    },
    {
     "data": {
      "text/plain": [
       "[1.4895929098129272, 0.7738201022148132]"
      ]
     },
     "execution_count": 50,
     "metadata": {},
     "output_type": "execute_result"
    }
   ],
   "source": [
    "model=models.Sequential()\n",
    "model.add(layers.Dense(64,activation='relu',input_shape=(10000,)))\n",
    "model.add(layers.Dense(64,activation='relu'))\n",
    "model.add(layers.Dense(64,activation='relu'))\n",
    "model.add(layers.Dense(64,activation='relu'))\n",
    "model.add(layers.Dense(64,activation='relu'))\n",
    "model.add(layers.Dense(46,activation='softmax'))\n",
    "\n",
    "model.compile(optimizer='rmsprop',\n",
    "             loss='categorical_crossentropy',\n",
    "             metrics=['accuracy'])\n",
    "model.fit(partial_x_train,\n",
    "         partial_y_train,\n",
    "         epochs=9,\n",
    "         batch_size=128,\n",
    "         validation_data=(x_val,y_val))\n",
    "results=model.evaluate(x_test,one_hot_test_labels)\n",
    "results"
   ]
  },
  {
   "cell_type": "code",
   "execution_count": null,
   "id": "e28ccfab-3375-4d05-8510-f32dad2b8bc8",
   "metadata": {},
   "outputs": [],
   "source": []
  }
 ],
 "metadata": {
  "kernelspec": {
   "display_name": "Python 3 (ipykernel)",
   "language": "python",
   "name": "python3"
  },
  "language_info": {
   "codemirror_mode": {
    "name": "ipython",
    "version": 3
   },
   "file_extension": ".py",
   "mimetype": "text/x-python",
   "name": "python",
   "nbconvert_exporter": "python",
   "pygments_lexer": "ipython3",
   "version": "3.8.10"
  }
 },
 "nbformat": 4,
 "nbformat_minor": 5
}
